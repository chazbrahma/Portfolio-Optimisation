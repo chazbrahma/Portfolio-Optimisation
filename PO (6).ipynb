{
 "cells": [
  {
   "cell_type": "code",
   "execution_count": 70,
   "id": "da7bbfc6-c4e9-4696-a851-d1ca4cb31b2a",
   "metadata": {},
   "outputs": [
    {
     "name": "stdout",
     "output_type": "stream",
     "text": [
      "Requirement already satisfied: cvxopt in c:\\users\\chazinbrahma\\anaconda3\\lib\\site-packages (1.3.2)\n"
     ]
    }
   ],
   "source": [
    "!pip install cvxopt"
   ]
  },
  {
   "cell_type": "code",
   "execution_count": 71,
   "id": "534722d5-e13e-4f5c-a1fb-e47426ef62bc",
   "metadata": {},
   "outputs": [],
   "source": [
    "import cvxpy as cp \n",
    "import numpy as np \n",
    "import yfinance as yf \n",
    "import pandas as pd \n",
    "import matplotlib.pyplot as plt\n",
    "from cvxopt import blas, solvers "
   ]
  },
  {
   "cell_type": "code",
   "execution_count": 72,
   "id": "3d81bc43-557a-4d9c-8e1d-bfd32d6b779e",
   "metadata": {},
   "outputs": [
    {
     "name": "stdout",
     "output_type": "stream",
     "text": [
      "[*********************100%%**********************]  4 of 4 completed\n"
     ]
    },
    {
     "data": {
      "text/html": [
       "<div>\n",
       "<style scoped>\n",
       "    .dataframe tbody tr th:only-of-type {\n",
       "        vertical-align: middle;\n",
       "    }\n",
       "\n",
       "    .dataframe tbody tr th {\n",
       "        vertical-align: top;\n",
       "    }\n",
       "\n",
       "    .dataframe thead tr th {\n",
       "        text-align: left;\n",
       "    }\n",
       "\n",
       "    .dataframe thead tr:last-of-type th {\n",
       "        text-align: right;\n",
       "    }\n",
       "</style>\n",
       "<table border=\"1\" class=\"dataframe\">\n",
       "  <thead>\n",
       "    <tr>\n",
       "      <th></th>\n",
       "      <th colspan=\"4\" halign=\"left\">Adj Close</th>\n",
       "      <th colspan=\"4\" halign=\"left\">Close</th>\n",
       "      <th colspan=\"2\" halign=\"left\">High</th>\n",
       "      <th>...</th>\n",
       "      <th colspan=\"2\" halign=\"left\">Low</th>\n",
       "      <th colspan=\"4\" halign=\"left\">Open</th>\n",
       "      <th colspan=\"4\" halign=\"left\">Volume</th>\n",
       "    </tr>\n",
       "    <tr>\n",
       "      <th></th>\n",
       "      <th>IVV</th>\n",
       "      <th>QQQ</th>\n",
       "      <th>SPY</th>\n",
       "      <th>VOO</th>\n",
       "      <th>IVV</th>\n",
       "      <th>QQQ</th>\n",
       "      <th>SPY</th>\n",
       "      <th>VOO</th>\n",
       "      <th>IVV</th>\n",
       "      <th>QQQ</th>\n",
       "      <th>...</th>\n",
       "      <th>SPY</th>\n",
       "      <th>VOO</th>\n",
       "      <th>IVV</th>\n",
       "      <th>QQQ</th>\n",
       "      <th>SPY</th>\n",
       "      <th>VOO</th>\n",
       "      <th>IVV</th>\n",
       "      <th>QQQ</th>\n",
       "      <th>SPY</th>\n",
       "      <th>VOO</th>\n",
       "    </tr>\n",
       "    <tr>\n",
       "      <th>Date</th>\n",
       "      <th></th>\n",
       "      <th></th>\n",
       "      <th></th>\n",
       "      <th></th>\n",
       "      <th></th>\n",
       "      <th></th>\n",
       "      <th></th>\n",
       "      <th></th>\n",
       "      <th></th>\n",
       "      <th></th>\n",
       "      <th></th>\n",
       "      <th></th>\n",
       "      <th></th>\n",
       "      <th></th>\n",
       "      <th></th>\n",
       "      <th></th>\n",
       "      <th></th>\n",
       "      <th></th>\n",
       "      <th></th>\n",
       "      <th></th>\n",
       "      <th></th>\n",
       "    </tr>\n",
       "  </thead>\n",
       "  <tbody>\n",
       "    <tr>\n",
       "      <th>2020-01-02</th>\n",
       "      <td>302.929230</td>\n",
       "      <td>209.976059</td>\n",
       "      <td>302.208588</td>\n",
       "      <td>276.999207</td>\n",
       "      <td>326.320007</td>\n",
       "      <td>216.160004</td>\n",
       "      <td>324.869995</td>\n",
       "      <td>298.420013</td>\n",
       "      <td>326.320007</td>\n",
       "      <td>216.160004</td>\n",
       "      <td>...</td>\n",
       "      <td>322.529999</td>\n",
       "      <td>296.339996</td>\n",
       "      <td>324.980011</td>\n",
       "      <td>214.399994</td>\n",
       "      <td>323.540009</td>\n",
       "      <td>297.290009</td>\n",
       "      <td>4070500</td>\n",
       "      <td>30969400</td>\n",
       "      <td>59151200</td>\n",
       "      <td>3142400</td>\n",
       "    </tr>\n",
       "    <tr>\n",
       "      <th>2020-01-03</th>\n",
       "      <td>300.599121</td>\n",
       "      <td>208.052734</td>\n",
       "      <td>299.920258</td>\n",
       "      <td>274.975708</td>\n",
       "      <td>323.809998</td>\n",
       "      <td>214.179993</td>\n",
       "      <td>322.410004</td>\n",
       "      <td>296.239990</td>\n",
       "      <td>325.059998</td>\n",
       "      <td>215.470001</td>\n",
       "      <td>...</td>\n",
       "      <td>321.100006</td>\n",
       "      <td>295.040009</td>\n",
       "      <td>322.529999</td>\n",
       "      <td>213.300003</td>\n",
       "      <td>321.160004</td>\n",
       "      <td>295.220001</td>\n",
       "      <td>4290400</td>\n",
       "      <td>27518900</td>\n",
       "      <td>77709700</td>\n",
       "      <td>3247900</td>\n",
       "    </tr>\n",
       "    <tr>\n",
       "      <th>2020-01-06</th>\n",
       "      <td>301.787476</td>\n",
       "      <td>209.393250</td>\n",
       "      <td>301.064392</td>\n",
       "      <td>276.006012</td>\n",
       "      <td>325.089996</td>\n",
       "      <td>215.559998</td>\n",
       "      <td>323.640015</td>\n",
       "      <td>297.350006</td>\n",
       "      <td>325.140015</td>\n",
       "      <td>215.589996</td>\n",
       "      <td>...</td>\n",
       "      <td>320.359985</td>\n",
       "      <td>294.350006</td>\n",
       "      <td>321.890015</td>\n",
       "      <td>212.500000</td>\n",
       "      <td>320.489990</td>\n",
       "      <td>294.420013</td>\n",
       "      <td>4212000</td>\n",
       "      <td>21655300</td>\n",
       "      <td>55653900</td>\n",
       "      <td>2777100</td>\n",
       "    </tr>\n",
       "    <tr>\n",
       "      <th>2020-01-07</th>\n",
       "      <td>300.961243</td>\n",
       "      <td>209.364120</td>\n",
       "      <td>300.217957</td>\n",
       "      <td>275.244873</td>\n",
       "      <td>324.200012</td>\n",
       "      <td>215.529999</td>\n",
       "      <td>322.730011</td>\n",
       "      <td>296.529999</td>\n",
       "      <td>324.970001</td>\n",
       "      <td>216.139999</td>\n",
       "      <td>...</td>\n",
       "      <td>322.239990</td>\n",
       "      <td>296.059998</td>\n",
       "      <td>324.459991</td>\n",
       "      <td>215.639999</td>\n",
       "      <td>323.019989</td>\n",
       "      <td>296.820007</td>\n",
       "      <td>3632500</td>\n",
       "      <td>22139300</td>\n",
       "      <td>40496400</td>\n",
       "      <td>2251800</td>\n",
       "    </tr>\n",
       "    <tr>\n",
       "      <th>2020-01-08</th>\n",
       "      <td>302.492920</td>\n",
       "      <td>210.937790</td>\n",
       "      <td>301.817963</td>\n",
       "      <td>276.665070</td>\n",
       "      <td>325.850006</td>\n",
       "      <td>217.149994</td>\n",
       "      <td>324.450012</td>\n",
       "      <td>298.059998</td>\n",
       "      <td>327.209991</td>\n",
       "      <td>218.139999</td>\n",
       "      <td>...</td>\n",
       "      <td>322.670013</td>\n",
       "      <td>296.470001</td>\n",
       "      <td>324.380005</td>\n",
       "      <td>215.500000</td>\n",
       "      <td>322.940002</td>\n",
       "      <td>296.709991</td>\n",
       "      <td>3912100</td>\n",
       "      <td>26397300</td>\n",
       "      <td>68296000</td>\n",
       "      <td>3719500</td>\n",
       "    </tr>\n",
       "  </tbody>\n",
       "</table>\n",
       "<p>5 rows × 24 columns</p>\n",
       "</div>"
      ],
      "text/plain": [
       "             Adj Close                                           Close  \\\n",
       "                   IVV         QQQ         SPY         VOO         IVV   \n",
       "Date                                                                     \n",
       "2020-01-02  302.929230  209.976059  302.208588  276.999207  326.320007   \n",
       "2020-01-03  300.599121  208.052734  299.920258  274.975708  323.809998   \n",
       "2020-01-06  301.787476  209.393250  301.064392  276.006012  325.089996   \n",
       "2020-01-07  300.961243  209.364120  300.217957  275.244873  324.200012   \n",
       "2020-01-08  302.492920  210.937790  301.817963  276.665070  325.850006   \n",
       "\n",
       "                                                      High              ...  \\\n",
       "                   QQQ         SPY         VOO         IVV         QQQ  ...   \n",
       "Date                                                                    ...   \n",
       "2020-01-02  216.160004  324.869995  298.420013  326.320007  216.160004  ...   \n",
       "2020-01-03  214.179993  322.410004  296.239990  325.059998  215.470001  ...   \n",
       "2020-01-06  215.559998  323.640015  297.350006  325.140015  215.589996  ...   \n",
       "2020-01-07  215.529999  322.730011  296.529999  324.970001  216.139999  ...   \n",
       "2020-01-08  217.149994  324.450012  298.059998  327.209991  218.139999  ...   \n",
       "\n",
       "                   Low                    Open                          \\\n",
       "                   SPY         VOO         IVV         QQQ         SPY   \n",
       "Date                                                                     \n",
       "2020-01-02  322.529999  296.339996  324.980011  214.399994  323.540009   \n",
       "2020-01-03  321.100006  295.040009  322.529999  213.300003  321.160004   \n",
       "2020-01-06  320.359985  294.350006  321.890015  212.500000  320.489990   \n",
       "2020-01-07  322.239990  296.059998  324.459991  215.639999  323.019989   \n",
       "2020-01-08  322.670013  296.470001  324.380005  215.500000  322.940002   \n",
       "\n",
       "                         Volume                               \n",
       "                   VOO      IVV       QQQ       SPY      VOO  \n",
       "Date                                                          \n",
       "2020-01-02  297.290009  4070500  30969400  59151200  3142400  \n",
       "2020-01-03  295.220001  4290400  27518900  77709700  3247900  \n",
       "2020-01-06  294.420013  4212000  21655300  55653900  2777100  \n",
       "2020-01-07  296.820007  3632500  22139300  40496400  2251800  \n",
       "2020-01-08  296.709991  3912100  26397300  68296000  3719500  \n",
       "\n",
       "[5 rows x 24 columns]"
      ]
     },
     "execution_count": 72,
     "metadata": {},
     "output_type": "execute_result"
    }
   ],
   "source": [
    "tickers = ['SPY', 'VOO', 'QQQ', 'IVV']\n",
    "data = yf.download(tickers, start=\"2020-01-01\", end=\"2023-01-01\", interval=\"1d\")\n",
    "data.head()"
   ]
  },
  {
   "cell_type": "code",
   "execution_count": 73,
   "id": "960d5871-732c-455b-a236-8302f323e1ff",
   "metadata": {},
   "outputs": [
    {
     "data": {
      "text/html": [
       "<div>\n",
       "<style scoped>\n",
       "    .dataframe tbody tr th:only-of-type {\n",
       "        vertical-align: middle;\n",
       "    }\n",
       "\n",
       "    .dataframe tbody tr th {\n",
       "        vertical-align: top;\n",
       "    }\n",
       "\n",
       "    .dataframe thead th {\n",
       "        text-align: right;\n",
       "    }\n",
       "</style>\n",
       "<table border=\"1\" class=\"dataframe\">\n",
       "  <thead>\n",
       "    <tr style=\"text-align: right;\">\n",
       "      <th></th>\n",
       "      <th>IVV</th>\n",
       "      <th>QQQ</th>\n",
       "      <th>SPY</th>\n",
       "      <th>VOO</th>\n",
       "    </tr>\n",
       "    <tr>\n",
       "      <th>Date</th>\n",
       "      <th></th>\n",
       "      <th></th>\n",
       "      <th></th>\n",
       "      <th></th>\n",
       "    </tr>\n",
       "  </thead>\n",
       "  <tbody>\n",
       "    <tr>\n",
       "      <th>2020-01-02</th>\n",
       "      <td>302.929230</td>\n",
       "      <td>209.976059</td>\n",
       "      <td>302.208588</td>\n",
       "      <td>276.999207</td>\n",
       "    </tr>\n",
       "    <tr>\n",
       "      <th>2020-01-03</th>\n",
       "      <td>300.599121</td>\n",
       "      <td>208.052734</td>\n",
       "      <td>299.920258</td>\n",
       "      <td>274.975708</td>\n",
       "    </tr>\n",
       "    <tr>\n",
       "      <th>2020-01-06</th>\n",
       "      <td>301.787476</td>\n",
       "      <td>209.393250</td>\n",
       "      <td>301.064392</td>\n",
       "      <td>276.006012</td>\n",
       "    </tr>\n",
       "    <tr>\n",
       "      <th>2020-01-07</th>\n",
       "      <td>300.961243</td>\n",
       "      <td>209.364120</td>\n",
       "      <td>300.217957</td>\n",
       "      <td>275.244873</td>\n",
       "    </tr>\n",
       "    <tr>\n",
       "      <th>2020-01-08</th>\n",
       "      <td>302.492920</td>\n",
       "      <td>210.937790</td>\n",
       "      <td>301.817963</td>\n",
       "      <td>276.665070</td>\n",
       "    </tr>\n",
       "  </tbody>\n",
       "</table>\n",
       "</div>"
      ],
      "text/plain": [
       "                   IVV         QQQ         SPY         VOO\n",
       "Date                                                      \n",
       "2020-01-02  302.929230  209.976059  302.208588  276.999207\n",
       "2020-01-03  300.599121  208.052734  299.920258  274.975708\n",
       "2020-01-06  301.787476  209.393250  301.064392  276.006012\n",
       "2020-01-07  300.961243  209.364120  300.217957  275.244873\n",
       "2020-01-08  302.492920  210.937790  301.817963  276.665070"
      ]
     },
     "execution_count": 73,
     "metadata": {},
     "output_type": "execute_result"
    }
   ],
   "source": [
    "adj_close = data['Adj Close']\n",
    "adj_close.head()"
   ]
  },
  {
   "cell_type": "code",
   "execution_count": 74,
   "id": "c3b6b150-f1a2-4930-9d3f-31e24b47a2b4",
   "metadata": {},
   "outputs": [
    {
     "data": {
      "text/plain": [
       "IVV    0\n",
       "QQQ    0\n",
       "SPY    0\n",
       "VOO    0\n",
       "dtype: int64"
      ]
     },
     "execution_count": 74,
     "metadata": {},
     "output_type": "execute_result"
    }
   ],
   "source": [
    "missing_per_stock = adj_close.isna().sum()\n",
    "missing_per_stock"
   ]
  },
  {
   "cell_type": "code",
   "execution_count": 75,
   "id": "7263230e-0708-41a9-9589-1eebaf44a1ea",
   "metadata": {},
   "outputs": [
    {
     "data": {
      "text/html": [
       "<div>\n",
       "<style scoped>\n",
       "    .dataframe tbody tr th:only-of-type {\n",
       "        vertical-align: middle;\n",
       "    }\n",
       "\n",
       "    .dataframe tbody tr th {\n",
       "        vertical-align: top;\n",
       "    }\n",
       "\n",
       "    .dataframe thead th {\n",
       "        text-align: right;\n",
       "    }\n",
       "</style>\n",
       "<table border=\"1\" class=\"dataframe\">\n",
       "  <thead>\n",
       "    <tr style=\"text-align: right;\">\n",
       "      <th></th>\n",
       "      <th>IVV</th>\n",
       "      <th>QQQ</th>\n",
       "      <th>SPY</th>\n",
       "      <th>VOO</th>\n",
       "    </tr>\n",
       "    <tr>\n",
       "      <th>Date</th>\n",
       "      <th></th>\n",
       "      <th></th>\n",
       "      <th></th>\n",
       "      <th></th>\n",
       "    </tr>\n",
       "  </thead>\n",
       "  <tbody>\n",
       "    <tr>\n",
       "      <th>2020-01-02</th>\n",
       "      <td>NaN</td>\n",
       "      <td>NaN</td>\n",
       "      <td>NaN</td>\n",
       "      <td>NaN</td>\n",
       "    </tr>\n",
       "    <tr>\n",
       "      <th>2020-01-03</th>\n",
       "      <td>-0.007692</td>\n",
       "      <td>-0.009160</td>\n",
       "      <td>-0.007572</td>\n",
       "      <td>-0.007305</td>\n",
       "    </tr>\n",
       "    <tr>\n",
       "      <th>2020-01-06</th>\n",
       "      <td>0.003953</td>\n",
       "      <td>0.006443</td>\n",
       "      <td>0.003815</td>\n",
       "      <td>0.003747</td>\n",
       "    </tr>\n",
       "    <tr>\n",
       "      <th>2020-01-07</th>\n",
       "      <td>-0.002738</td>\n",
       "      <td>-0.000139</td>\n",
       "      <td>-0.002811</td>\n",
       "      <td>-0.002758</td>\n",
       "    </tr>\n",
       "    <tr>\n",
       "      <th>2020-01-08</th>\n",
       "      <td>0.005089</td>\n",
       "      <td>0.007516</td>\n",
       "      <td>0.005329</td>\n",
       "      <td>0.005160</td>\n",
       "    </tr>\n",
       "    <tr>\n",
       "      <th>...</th>\n",
       "      <td>...</td>\n",
       "      <td>...</td>\n",
       "      <td>...</td>\n",
       "      <td>...</td>\n",
       "    </tr>\n",
       "    <tr>\n",
       "      <th>2022-12-23</th>\n",
       "      <td>0.005201</td>\n",
       "      <td>0.002249</td>\n",
       "      <td>0.005752</td>\n",
       "      <td>0.005601</td>\n",
       "    </tr>\n",
       "    <tr>\n",
       "      <th>2022-12-27</th>\n",
       "      <td>-0.003848</td>\n",
       "      <td>-0.014139</td>\n",
       "      <td>-0.003944</td>\n",
       "      <td>-0.003979</td>\n",
       "    </tr>\n",
       "    <tr>\n",
       "      <th>2022-12-28</th>\n",
       "      <td>-0.012138</td>\n",
       "      <td>-0.013203</td>\n",
       "      <td>-0.012428</td>\n",
       "      <td>-0.012269</td>\n",
       "    </tr>\n",
       "    <tr>\n",
       "      <th>2022-12-29</th>\n",
       "      <td>0.017307</td>\n",
       "      <td>0.024375</td>\n",
       "      <td>0.018000</td>\n",
       "      <td>0.017737</td>\n",
       "    </tr>\n",
       "    <tr>\n",
       "      <th>2022-12-30</th>\n",
       "      <td>-0.002078</td>\n",
       "      <td>-0.000600</td>\n",
       "      <td>-0.002634</td>\n",
       "      <td>-0.002753</td>\n",
       "    </tr>\n",
       "  </tbody>\n",
       "</table>\n",
       "<p>756 rows × 4 columns</p>\n",
       "</div>"
      ],
      "text/plain": [
       "                 IVV       QQQ       SPY       VOO\n",
       "Date                                              \n",
       "2020-01-02       NaN       NaN       NaN       NaN\n",
       "2020-01-03 -0.007692 -0.009160 -0.007572 -0.007305\n",
       "2020-01-06  0.003953  0.006443  0.003815  0.003747\n",
       "2020-01-07 -0.002738 -0.000139 -0.002811 -0.002758\n",
       "2020-01-08  0.005089  0.007516  0.005329  0.005160\n",
       "...              ...       ...       ...       ...\n",
       "2022-12-23  0.005201  0.002249  0.005752  0.005601\n",
       "2022-12-27 -0.003848 -0.014139 -0.003944 -0.003979\n",
       "2022-12-28 -0.012138 -0.013203 -0.012428 -0.012269\n",
       "2022-12-29  0.017307  0.024375  0.018000  0.017737\n",
       "2022-12-30 -0.002078 -0.000600 -0.002634 -0.002753\n",
       "\n",
       "[756 rows x 4 columns]"
      ]
     },
     "execution_count": 75,
     "metadata": {},
     "output_type": "execute_result"
    }
   ],
   "source": [
    "daily_returns = adj_close.pct_change()\n",
    "daily_returns "
   ]
  },
  {
   "cell_type": "code",
   "execution_count": 76,
   "id": "5989951b-1d91-41aa-a911-26a2458963f3",
   "metadata": {},
   "outputs": [
    {
     "data": {
      "text/html": [
       "<div>\n",
       "<style scoped>\n",
       "    .dataframe tbody tr th:only-of-type {\n",
       "        vertical-align: middle;\n",
       "    }\n",
       "\n",
       "    .dataframe tbody tr th {\n",
       "        vertical-align: top;\n",
       "    }\n",
       "\n",
       "    .dataframe thead th {\n",
       "        text-align: right;\n",
       "    }\n",
       "</style>\n",
       "<table border=\"1\" class=\"dataframe\">\n",
       "  <thead>\n",
       "    <tr style=\"text-align: right;\">\n",
       "      <th></th>\n",
       "      <th>IVV</th>\n",
       "      <th>QQQ</th>\n",
       "      <th>SPY</th>\n",
       "      <th>VOO</th>\n",
       "    </tr>\n",
       "    <tr>\n",
       "      <th>Date</th>\n",
       "      <th></th>\n",
       "      <th></th>\n",
       "      <th></th>\n",
       "      <th></th>\n",
       "    </tr>\n",
       "  </thead>\n",
       "  <tbody>\n",
       "    <tr>\n",
       "      <th>2020-01-31</th>\n",
       "      <td>NaN</td>\n",
       "      <td>NaN</td>\n",
       "      <td>NaN</td>\n",
       "      <td>NaN</td>\n",
       "    </tr>\n",
       "    <tr>\n",
       "      <th>2020-02-29</th>\n",
       "      <td>-0.084550</td>\n",
       "      <td>-0.060574</td>\n",
       "      <td>-0.079166</td>\n",
       "      <td>-0.080997</td>\n",
       "    </tr>\n",
       "    <tr>\n",
       "      <th>2020-03-31</th>\n",
       "      <td>-0.121290</td>\n",
       "      <td>-0.072858</td>\n",
       "      <td>-0.124871</td>\n",
       "      <td>-0.124414</td>\n",
       "    </tr>\n",
       "    <tr>\n",
       "      <th>2020-04-30</th>\n",
       "      <td>0.126780</td>\n",
       "      <td>0.149737</td>\n",
       "      <td>0.126984</td>\n",
       "      <td>0.127860</td>\n",
       "    </tr>\n",
       "    <tr>\n",
       "      <th>2020-05-31</th>\n",
       "      <td>0.048152</td>\n",
       "      <td>0.066009</td>\n",
       "      <td>0.047645</td>\n",
       "      <td>0.047361</td>\n",
       "    </tr>\n",
       "  </tbody>\n",
       "</table>\n",
       "</div>"
      ],
      "text/plain": [
       "                 IVV       QQQ       SPY       VOO\n",
       "Date                                              \n",
       "2020-01-31       NaN       NaN       NaN       NaN\n",
       "2020-02-29 -0.084550 -0.060574 -0.079166 -0.080997\n",
       "2020-03-31 -0.121290 -0.072858 -0.124871 -0.124414\n",
       "2020-04-30  0.126780  0.149737  0.126984  0.127860\n",
       "2020-05-31  0.048152  0.066009  0.047645  0.047361"
      ]
     },
     "execution_count": 76,
     "metadata": {},
     "output_type": "execute_result"
    }
   ],
   "source": [
    "monthly_adj_close = adj_close.resample('M').last()\n",
    "monthly_returns = monthly_adj_close.pct_change()\n",
    "\n",
    "monthly_returns.head()"
   ]
  },
  {
   "cell_type": "code",
   "execution_count": 77,
   "id": "02f7e925-8abd-4332-9e38-1321821199ef",
   "metadata": {},
   "outputs": [],
   "source": [
    "log_daily_returns = np.log(adj_close / adj_close.shift(1))"
   ]
  },
  {
   "cell_type": "code",
   "execution_count": 78,
   "id": "50d4d947-398a-4793-8dd0-a6bcca658d4c",
   "metadata": {},
   "outputs": [],
   "source": [
    "daily_returns.dropna(inplace=True)\n",
    "monthly_returns.dropna(inplace=True)\n",
    "log_daily_returns.dropna(inplace=True)"
   ]
  },
  {
   "cell_type": "code",
   "execution_count": 79,
   "id": "1aeb38ad-b8cc-4a2a-9850-c99ca83b3bfe",
   "metadata": {},
   "outputs": [],
   "source": [
    "def calculate_mean_returns(returns): \n",
    "\n",
    "    mean_returns = returns.mean() \n",
    "    return mean_returns \n",
    "\n",
    "def calculate_variance(returns):\n",
    "\n",
    "    variance = returns.var()\n",
    "    return variance \n",
    "\n",
    "def calculate_covariance_matrix(returns):\n",
    "\n",
    "    covariance_matrix = returns.cov()\n",
    "    return covariance_matrix "
   ]
  },
  {
   "cell_type": "code",
   "execution_count": 80,
   "id": "47946516-5f35-4825-ad5d-7a8e332bed4c",
   "metadata": {},
   "outputs": [
    {
     "name": "stdout",
     "output_type": "stream",
     "text": [
      "Mean Returns:\n",
      " IVV    0.000410\n",
      "QQQ    0.000475\n",
      "SPY    0.000404\n",
      "VOO    0.000410\n",
      "dtype: float64\n",
      "\n",
      "Variance:\n",
      " IVV    0.000257\n",
      "QQQ    0.000350\n",
      "SPY    0.000248\n",
      "VOO    0.000257\n",
      "dtype: float64\n",
      "\n",
      "Covariance Matrix:\n",
      "           IVV       QQQ       SPY       VOO\n",
      "IVV  0.000257  0.000279  0.000252  0.000257\n",
      "QQQ  0.000279  0.000350  0.000275  0.000279\n",
      "SPY  0.000252  0.000275  0.000248  0.000252\n",
      "VOO  0.000257  0.000279  0.000252  0.000257\n"
     ]
    }
   ],
   "source": [
    "mean_returns = calculate_mean_returns(daily_returns)\n",
    "print(\"Mean Returns:\\n\", mean_returns)\n",
    "\n",
    "variance = calculate_variance(daily_returns)\n",
    "print(\"\\nVariance:\\n\", variance)\n",
    "\n",
    "cov_matrix = calculate_covariance_matrix(daily_returns)\n",
    "print(\"\\nCovariance Matrix:\\n\", cov_matrix)"
   ]
  },
  {
   "cell_type": "code",
   "execution_count": 81,
   "id": "b4489f79-7023-467f-80cc-21acfad7d8cb",
   "metadata": {},
   "outputs": [],
   "source": [
    "def simulate_random_weights(num_assets): \n",
    "    weights = np.random.random(num_assets) \n",
    "    weights /= np.sum(weights) \n",
    "\n",
    "    return weights "
   ]
  },
  {
   "cell_type": "code",
   "execution_count": 82,
   "id": "59e01df7-286c-43d5-866c-bf7f6e0cb0b6",
   "metadata": {},
   "outputs": [],
   "source": [
    "def simulate_multiple_portfolios(num_assets, num_portfolios): \n",
    "\n",
    "    portfolios = np.zeros((num_portfolios, num_assets))\n",
    "\n",
    "    for i in range(num_portfolios): \n",
    "        portfolios[i] = simulate_random_weights(num_assets)\n",
    "\n",
    "    return portfolios "
   ]
  },
  {
   "cell_type": "code",
   "execution_count": 83,
   "id": "c301c40a-13d0-4b55-96c0-711adb4fa597",
   "metadata": {},
   "outputs": [
    {
     "name": "stdout",
     "output_type": "stream",
     "text": [
      "Random Portfolio Weights:\n",
      " [0.30727529 0.24452511 0.04712439 0.4010752 ]\n",
      "Sum of Weights: 1.0\n"
     ]
    }
   ],
   "source": [
    "num_assets = 4\n",
    "\n",
    "random_weights = simulate_random_weights(num_assets)\n",
    "print(\"Random Portfolio Weights:\\n\", random_weights)\n",
    "\n",
    "print(\"Sum of Weights:\", np.sum(random_weights))"
   ]
  },
  {
   "cell_type": "code",
   "execution_count": 84,
   "id": "31e0501b-b569-4b6f-a27b-ad7589c7da0c",
   "metadata": {},
   "outputs": [],
   "source": [
    "def calculate_portfolio_return(weights, mean_returns): \n",
    "\n",
    "    return np.dot(weights, mean_returns) \n",
    "\n",
    "def calculate_portfolio_risk(weights, covariance_matrix): \n",
    "\n",
    "    portfolio_variance = np.dot(weights.T, np.dot(covariance_matrix, weights))\n",
    "    return np.sqrt(portfolio_variance) "
   ]
  },
  {
   "cell_type": "code",
   "execution_count": 85,
   "id": "0a5fe296-21a6-4ae5-986e-a073ac62d932",
   "metadata": {},
   "outputs": [
    {
     "name": "stdout",
     "output_type": "stream",
     "text": [
      "Expected Portfolio Return: 0.00042544867688946644\n",
      "Portfolio Risk (Standard Deviation): 0.01643636574172807\n"
     ]
    }
   ],
   "source": [
    "portfolio_return = calculate_portfolio_return(random_weights, mean_returns)\n",
    "print(\"Expected Portfolio Return:\", portfolio_return)\n",
    "\n",
    "portfolio_risk = calculate_portfolio_risk(random_weights, cov_matrix)\n",
    "print(\"Portfolio Risk (Standard Deviation):\", portfolio_risk)"
   ]
  },
  {
   "cell_type": "code",
   "execution_count": 86,
   "id": "ef95a7c6-2ce8-443e-9137-c9961bee4779",
   "metadata": {},
   "outputs": [],
   "source": [
    "def calculate_sharpe_ratio(portfolio_return, portfolio_risk, risk_free_rate): \n",
    "\n",
    "    return(portfolio_return - risk_free_rate) / portfolio_risk"
   ]
  },
  {
   "cell_type": "code",
   "execution_count": 87,
   "id": "54403578-26be-48e7-bfa3-02baa8a7be2d",
   "metadata": {},
   "outputs": [
    {
     "name": "stdout",
     "output_type": "stream",
     "text": [
      "Sharpe Ratio: -0.2783189054680636\n"
     ]
    }
   ],
   "source": [
    "risk_free_rate = 0.005\n",
    "\n",
    "sharpe_ratio = calculate_sharpe_ratio(portfolio_return, portfolio_risk, risk_free_rate)\n",
    "print(\"Sharpe Ratio:\", sharpe_ratio)"
   ]
  },
  {
   "cell_type": "code",
   "execution_count": 88,
   "id": "4e3882c7-a6ab-4cdf-9b59-47fb066c7d6c",
   "metadata": {},
   "outputs": [],
   "source": [
    "def run_monte_carlo_simulation(num_portfolios, mean_returns, cov_matrix, risk_free_rate):\n",
    "    results = np.zeros((num_portfolios, 3))\n",
    "    columns = ['Return', 'Risk', 'Sharpe Ratio']\n",
    "    weights_record = []\n",
    "\n",
    "    for i in range (num_portfolios): \n",
    "        weights = simulate_random_weights(len(mean_returns))\n",
    "        portfolio_return = calculate_portfolio_return(weights, mean_returns)\n",
    "        portfolio_risk = calculate_portfolio_risk(weights, cov_matrix) \n",
    "        sharpe_ratio = calculate_sharpe_ratio(portfolio_return, portfolio_risk, risk_free_rate)\n",
    "\n",
    "        results[i] = [portfolio_return, portfolio_risk, sharpe_ratio]\n",
    "        weights_record.append(weights)\n",
    "\n",
    "    return pd.DataFrame(results, columns=['Return', 'Risk', 'Sharpe Ratio']), weights_record"
   ]
  },
  {
   "cell_type": "code",
   "execution_count": 89,
   "id": "619ef859-4cd5-4668-860c-ca8a17daaea1",
   "metadata": {},
   "outputs": [
    {
     "name": "stdout",
     "output_type": "stream",
     "text": [
      "     Return      Risk  Sharpe Ratio\n",
      "0  0.000415  0.016128     -0.284269\n",
      "1  0.000411  0.016026     -0.286354\n",
      "2  0.000426  0.016430     -0.278381\n",
      "3  0.000424  0.016404     -0.278933\n",
      "4  0.000416  0.016141     -0.284002\n"
     ]
    }
   ],
   "source": [
    "num_portfolios = 10000\n",
    "\n",
    "simulation_results, weights_record = run_monte_carlo_simulation(num_portfolios, mean_returns, cov_matrix, risk_free_rate)\n",
    "\n",
    "print(simulation_results.head())"
   ]
  },
  {
   "cell_type": "code",
   "execution_count": 90,
   "id": "ccffb004-2b8d-4819-bdd3-9d06daeef408",
   "metadata": {},
   "outputs": [
    {
     "data": {
      "image/png": "[encoded data removed]",
      "text/plain": [
       "<Figure size 1000x600 with 2 Axes>"
      ]
     },
     "metadata": {},
     "output_type": "display_data"
    }
   ],
   "source": [
    "def plot_efficient_frontier(simulation_results): \n",
    "\n",
    "    plt.figure(figsize=(10,6))\n",
    "    plt.scatter(simulation_results['Risk'], simulation_results['Return'], \n",
    "                c=simulation_results['Sharpe Ratio'], cmap='viridis', edgecolors='k', s=10)\n",
    "    \n",
    "    plt.title('Efficient Frontier')\n",
    "    plt.xlabel('Portfolio Risk (Standard Deviation)')\n",
    "    plt.ylabel('Portfolio Return')\n",
    "    plt.colorbar(label='Sharpe Ratio')  # Color bar for Sharpe Ratio\n",
    "    plt.grid(True)\n",
    "    plt.show()\n",
    "\n",
    "\n",
    "plot_efficient_frontier(simulation_results)"
   ]
  },
  {
   "cell_type": "code",
   "execution_count": 98,
   "id": "1c8f6b46-24e1-4561-967b-9b69cfb7d7f5",
   "metadata": {},
   "outputs": [],
   "source": [
    "def identify_optimal_portfolios(simulation_results): \n",
    "\n",
    "    max_sharpe_idx = simulation_results['Sharpe Ratio'].idxmax() \n",
    "    max_sharpe_portfolio = simulation_results.iloc[max_sharpe_idx]\n",
    "    max_sharpe_weights = weights_record[max_sharpe_idx]\n",
    "\n",
    "    min_risk_idx = simulation_results['Risk'].idxmin()\n",
    "    min_risk_portfolio = simulation_results.iloc[min_risk_idx]\n",
    "    min_risk_weights = weights_record[min_risk_idx]\n",
    "\n",
    "\n",
    "    optimal_portfolios = {\n",
    "        'Max Sharpe Ratio': {\n",
    "            'Return': max_sharpe_portfolio['Return'],\n",
    "            'Risk': max_sharpe_portfolio['Risk'],\n",
    "            'Sharpe Ratio': max_sharpe_portfolio['Sharpe Ratio'],\n",
    "            'Weights': max_sharpe_weights\n",
    "        },\n",
    "        'Min Risk': {\n",
    "            'Return': min_risk_portfolio['Return'],\n",
    "            'Risk': min_risk_portfolio['Risk'],\n",
    "            'Sharpe Ratio': min_risk_portfolio['Sharpe Ratio'],\n",
    "            'Weights': min_risk_weights\n",
    "        }\n",
    "    }\n",
    "\n",
    "    return optimal_portfolios"
   ]
  },
  {
   "cell_type": "code",
   "execution_count": 100,
   "id": "27fe389d-307d-491d-b5cf-5229632befb5",
   "metadata": {},
   "outputs": [
    {
     "name": "stdout",
     "output_type": "stream",
     "text": [
      "Optimal Portfolios:\n",
      "Max Sharpe Ratio Portfolio:\n",
      " {'Return': 0.0004701379240179229, 'Risk': 0.01841000580728536, 'Sharpe Ratio': -0.24605435345324458, 'Weights': array([0.01176495, 0.92417976, 0.03974692, 0.02430836])}\n",
      "Min Risk Portfolio:\n",
      " {'Return': 0.00040591621719726834, 'Risk': 0.015803674730690224, 'Sharpe Ratio': -0.29069718664110256, 'Weights': array([0.0372799 , 0.02034788, 0.90840171, 0.03397051])}\n"
     ]
    }
   ],
   "source": [
    "optimal_portfolios = identify_optimal_portfolios(simulation_results)\n",
    "\n",
    "print(\"Optimal Portfolios:\")\n",
    "print(\"Max Sharpe Ratio Portfolio:\\n\", optimal_portfolios['Max Sharpe Ratio'])\n",
    "print(\"Min Risk Portfolio:\\n\", optimal_portfolios['Min Risk'])"
   ]
  },
  {
   "cell_type": "code",
   "execution_count": 102,
   "id": "1e7e3659-a80c-49ec-8ba5-f99fa0edb541",
   "metadata": {},
   "outputs": [],
   "source": [
    "def calculate_equal_weighted_portfolio(mean_returns, covariance_matrix, num_assets):\n",
    "    equal_weights = np.ones(num_assets) / num_assets \n",
    "    portfolio_return = calculate_portfolio_return(equal_weights, mean_returns)\n",
    "    portfolio_risk = calculate_portfolio_risk(equal_weights, covariance_matrix)\n",
    "    return portfolio_return, portfolio_risk\n",
    "\n",
    "\n",
    "equal_weighted_return, equal_weighted_risk = calculate_equal_weighted_portfolio(mean_returns, cov_matrix, len(mean_returns))\n",
    "\n",
    "\n"
   ]
  },
  {
   "cell_type": "code",
   "execution_count": 104,
   "id": "fc5ddea8-cdd3-437c-b552-0b61cced7a13",
   "metadata": {},
   "outputs": [],
   "source": [
    "def compare_portfolios(optimal_portfolios, equal_weighted_return, equal_weighted_risk, risk_free_rate):\n",
    "\n",
    "    max_sharpe_return = optimal_portfolios['Max Sharpe Ratio']['Return']\n",
    "    max_sharpe_risk = optimal_portfolios['Max Sharpe Ratio']['Risk']\n",
    "    min_risk_return = optimal_portfolios['Min Risk']['Return']\n",
    "    min_risk_risk = optimal_portfolios['Min Risk']['Risk']\n",
    "\n",
    "\n",
    "    max_sharpe_ratio = calculate_sharpe_ratio(max_sharpe_return, max_sharpe_risk, risk_free_rate)\n",
    "    min_risk_sharpe_ratio = calculate_sharpe_ratio(min_risk_return, min_risk_risk, risk_free_rate )\n",
    "    equal_weighted_sharpe_ratio = calculate_sharpe_ratio(equal_weighted_return, equal_weighted_risk, risk_free_rate)\n",
    "    \n",
    "    comparison_data = {\n",
    "        'Strategy': ['Max Sharpe Ratio', 'Min Risk', 'Equal Weighted'],\n",
    "        'Return': [\n",
    "            max_sharpe_return, \n",
    "            min_risk_return, \n",
    "            equal_weighted_return\n",
    "        ],\n",
    "        'Risk': [\n",
    "            max_sharpe_risk, \n",
    "            min_risk_risk, \n",
    "            equal_weighted_risk\n",
    "        ],\n",
    "        'Sharpe Ratio': [\n",
    "            max_sharpe_ratio, \n",
    "            min_risk_sharpe_ratio, \n",
    "            equal_weighted_sharpe_ratio\n",
    "        ]\n",
    "    }\n",
    "\n",
    "\n",
    "    comparison_df = pd.DataFrame(comparison_data)\n",
    "    \n",
    "    return comparison_df"
   ]
  },
  {
   "cell_type": "code",
   "execution_count": 106,
   "id": "bd925c62-f910-4f99-b9d7-23171aeae810",
   "metadata": {},
   "outputs": [
    {
     "name": "stdout",
     "output_type": "stream",
     "text": [
      "\n",
      "Portfolio Comparison:\n",
      "           Strategy    Return      Risk  Sharpe Ratio\n",
      "0  Max Sharpe Ratio  0.000470  0.018410     -0.246054\n",
      "1          Min Risk  0.000406  0.015804     -0.290697\n",
      "2    Equal Weighted  0.000425  0.016393     -0.279094\n"
     ]
    }
   ],
   "source": [
    "comparison_df = compare_portfolios(optimal_portfolios, equal_weighted_return, equal_weighted_risk, risk_free_rate)\n",
    "print(\"\\nPortfolio Comparison:\")\n",
    "print(comparison_df)"
   ]
  },
  {
   "cell_type": "code",
   "execution_count": 124,
   "id": "25f68e40-4dbe-427a-948c-d40c25db3957",
   "metadata": {},
   "outputs": [],
   "source": [
    "def classify_market_conditions(price_data):\n",
    "    daily_returns = price_data.pct_change() \n",
    "    market_conditions = pd.Series(index=daily_returns.index, dtype='object')  \n",
    "\n",
    "    bull_threshold = 0.01  \n",
    "    bear_threshold = -0.01  \n",
    "\n",
    "    market_conditions[daily_returns > bull_threshold] = 'Bull'\n",
    "    market_conditions[daily_returns < bear_threshold] = 'Bear'\n",
    "    market_conditions[(daily_returns <= bull_threshold) & (daily_returns >= bear_threshold)] = 'Sideways'\n",
    "\n",
    "    return market_conditions\n",
    "\n",
    "\n"
   ]
  },
  {
   "cell_type": "code",
   "execution_count": 126,
   "id": "d5e5321b-83dd-4499-9bbe-4fd35007f740",
   "metadata": {},
   "outputs": [],
   "source": [
    "def performance_by_market_condition(portfolio_returns, market_conditions):\n",
    "    performance_summary = {}  \n",
    "\n",
    "    \n",
    "    for condition in market_conditions.unique():\n",
    "        condition_returns = portfolio_returns[market_conditions == condition]  \n",
    "        \n",
    "        performance_summary[condition] = {\n",
    "            'Average Return': condition_returns.mean(),  \n",
    "            'Total Return' : (1 + condition_returns).prod() - 1,  \n",
    "            'Volatility': condition_returns.std()  \n",
    "        }\n",
    "\n",
    "   \n",
    "    return pd.DataFrame(performance_summary).T\n"
   ]
  },
  {
   "cell_type": "code",
   "execution_count": 120,
   "id": "4d750cc4-5740-4881-8838-ca954400d627",
   "metadata": {},
   "outputs": [],
   "source": [
    "\n",
    "max_sharpe_weights = optimal_portfolios['Max Sharpe Ratio']['Weights']  \n",
    "max_sharpe_returns = daily_returns.dot(max_sharpe_weights)  \n",
    "\n",
    "min_risk_weights = optimal_portfolios['Min Risk']['Weights']  \n",
    "min_risk_returns = daily_returns.dot(min_risk_weights)  \n",
    "\n",
    "num_assets = len(daily_returns.columns)  \n",
    "equal_weighted_weights = np.ones(num_assets) / num_assets  \n",
    "equal_weighted_returns = daily_returns.dot(equal_weighted_weights)  \n",
    "\n",
    "market_conditions = classify_market_conditions(adj_close['SPY'])  \n",
    "\n",
    "\n",
    "max_sharpe_performance = performance_by_market_condition(max_sharpe_returns, market_conditions)\n",
    "min_risk_performance = performance_by_market_condition(min_risk_returns, market_conditions)\n",
    "equal_weighted_performance = performance_by_market_condition(equal_weighted_returns, market_conditions)\n",
    "\n"
   ]
  },
  {
   "cell_type": "code",
   "execution_count": 128,
   "id": "b9088dc4-710d-46b7-acb8-b3e3cfe98ef8",
   "metadata": {},
   "outputs": [
    {
     "name": "stdout",
     "output_type": "stream",
     "text": [
      "Portfolio Performance by Market Conditions:\n",
      "             Max Sharpe                               Min Risk               \\\n",
      "         Average Return Total Return Volatility Average Return Total Return   \n",
      "NaN                 NaN     0.000000        NaN            NaN     0.000000   \n",
      "Sideways       0.000358     0.162675   0.008627       0.000203     0.093129   \n",
      "Bear          -0.025223    -0.961705   0.016234      -0.022378    -0.944417   \n",
      "Bull           0.021456    27.168458   0.014717       0.019322    19.338975   \n",
      "\n",
      "                    Equal Weighted                          \n",
      "         Volatility Average Return Total Return Volatility  \n",
      "NaN             NaN            NaN     0.000000        NaN  \n",
      "Sideways   0.005251       0.000243     0.112184   0.005816  \n",
      "Bear       0.015137      -0.023174    -0.949902   0.015351  \n",
      "Bull       0.012373       0.019933    21.334707   0.012920  \n"
     ]
    }
   ],
   "source": [
    "\n",
    "results = pd.concat([max_sharpe_performance, min_risk_performance, equal_weighted_performance], axis=1)\n",
    "\n",
    "results.columns = pd.MultiIndex.from_product([['Max Sharpe', 'Min Risk', 'Equal Weighted'], max_sharpe_performance.columns])\n",
    "\n",
    "print(\"Portfolio Performance by Market Conditions:\")\n",
    "print(results)\n"
   ]
  },
  {
   "cell_type": "code",
   "execution_count": 130,
   "id": "bd98b231-e4b5-4b41-a5fc-b517e6aa6adb",
   "metadata": {},
   "outputs": [
    {
     "data": {
      "image/png": "[encoded data removed]",
      "text/plain": [
       "<Figure size 1000x600 with 1 Axes>"
      ]
     },
     "metadata": {},
     "output_type": "display_data"
    }
   ],
   "source": [
    "avg_returns = results.xs('Average Return', level=1, axis=1)\n",
    "\n",
    "avg_returns.plot(kind='bar', figsize=(10, 6))\n",
    "plt.title('Average Return by Market Condition')\n",
    "plt.xlabel('Market Condition')\n",
    "plt.ylabel('Average Return')\n",
    "plt.legend(title='Portfolio Strategy')\n",
    "plt.grid(True)\n",
    "plt.show()\n"
   ]
  },
  {
   "cell_type": "code",
   "execution_count": 132,
   "id": "ffd49c03-7f22-4418-9a18-78bc8205c41b",
   "metadata": {},
   "outputs": [
    {
     "data": {
      "image/png": "[encoded data removed]",
      "text/plain": [
       "<Figure size 1000x600 with 1 Axes>"
      ]
     },
     "metadata": {},
     "output_type": "display_data"
    }
   ],
   "source": [
    "volatility = results.xs('Volatility', level=1, axis=1)\n",
    "\n",
    "volatility.plot(kind='bar', figsize=(10, 6))\n",
    "plt.title('Volatility by Market Condition')\n",
    "plt.xlabel('Market Condition')\n",
    "plt.ylabel('Volatility (Standard Deviation)')\n",
    "plt.legend(title='Portfolio Strategy')\n",
    "plt.grid(True)\n",
    "plt.show()\n"
   ]
  }
 ],
 "metadata": {
  "kernelspec": {
   "display_name": "Python 3 (ipykernel)",
   "language": "python",
   "name": "python3"
  },
  "language_info": {
   "codemirror_mode": {
    "name": "ipython",
    "version": 3
   },
   "file_extension": ".py",
   "mimetype": "text/x-python",
   "name": "python",
   "nbconvert_exporter": "python",
   "pygments_lexer": "ipython3",
   "version": "3.11.5"
  }
 },
 "nbformat": 4,
 "nbformat_minor": 5
}
